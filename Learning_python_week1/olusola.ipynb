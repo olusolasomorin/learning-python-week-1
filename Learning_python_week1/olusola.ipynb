{
 "cells": [
  {
   "cell_type": "code",
   "execution_count": null,
   "id": "263fbe89",
   "metadata": {
    "vscode": {
     "languageId": "plaintext"
    }
   },
   "outputs": [],
   "source": [
    "print(\"hello world\")\n"
   ]
  },
  {
   "cell_type": "markdown",
   "id": "9c7e81e0",
   "metadata": {},
   "source": [
    "print(\"hello world\")"
   ]
  }
 ],
 "metadata": {
  "language_info": {
   "name": "python"
  }
 },
 "nbformat": 4,
 "nbformat_minor": 5
}
